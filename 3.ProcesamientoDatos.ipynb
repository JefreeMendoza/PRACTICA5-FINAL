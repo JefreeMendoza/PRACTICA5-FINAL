{
 "cells": [
  {
   "cell_type": "markdown",
   "id": "9a004934-be26-482d-b9c4-d4cfac05ce29",
   "metadata": {
    "id": "9a004934-be26-482d-b9c4-d4cfac05ce29"
   },
   "source": [
    "## Procesamiento Datos Pandas\n",
    "\n",
    "Para esta prueba deberá emplear los datos del archivo candidates.csv para lo cual deberá:\n",
    "\n",
    "1. Almanecar los datos en una base de datos. (Asegurar el almacenamiento con el tipo de dato apropiado)\n",
    "2. A partir de la lectura de los datos deberá generar un procesamiento reporte.\n",
    "    \n",
    "    (Cree el proceso que consideré más conveniente, realizarlo lo más complejo que le sea posible)\n",
    "    \n",
    "3. Realizar un código de envio de correos integrado en su solución.\n",
    "\n",
    "\n",
    "El archivo candidates.csv contiene 50k filas de datos sobre candidatos. Los campos que estamos usando son:\n",
    "- First Name\n",
    "- Last Name\n",
    "- Email\n",
    "- Country\n",
    "- Application Date\n",
    "- Yoe (years of experience)\n",
    "- Seniority\n",
    "- Technology\n",
    "- Code Challenge Score\n",
    "- Technical Interview\n"
   ]
  },
  {
   "cell_type": "code",
   "execution_count": 2,
   "id": "59cd2be4-533a-46cd-a117-0903c90a97e9",
   "metadata": {
    "id": "59cd2be4-533a-46cd-a117-0903c90a97e9",
    "outputId": "94e20d73-fa0f-4d47-d630-8110ef980fdb"
   },
   "outputs": [
    {
     "name": "stdout",
     "output_type": "stream",
     "text": [
      "Requirement already satisfied: secure-smtplib in c:\\users\\hp\\anaconda3\\lib\\site-packages (0.1.1)\n"
     ]
    }
   ],
   "source": [
    "!pip install secure-smtplib"
   ]
  },
  {
   "cell_type": "code",
   "execution_count": 23,
   "id": "0c873868-a27e-4186-88b4-7f7581b948f0",
   "metadata": {},
   "outputs": [
    {
     "name": "stdout",
     "output_type": "stream",
     "text": [
      "Requirement already satisfied: matplotlib in c:\\users\\hp\\anaconda3\\lib\\site-packages (3.7.0)\n",
      "Requirement already satisfied: cycler>=0.10 in c:\\users\\hp\\anaconda3\\lib\\site-packages (from matplotlib) (0.11.0)\n",
      "Requirement already satisfied: packaging>=20.0 in c:\\users\\hp\\anaconda3\\lib\\site-packages (from matplotlib) (22.0)\n",
      "Requirement already satisfied: python-dateutil>=2.7 in c:\\users\\hp\\anaconda3\\lib\\site-packages (from matplotlib) (2.8.2)\n",
      "Requirement already satisfied: kiwisolver>=1.0.1 in c:\\users\\hp\\anaconda3\\lib\\site-packages (from matplotlib) (1.4.4)\n",
      "Requirement already satisfied: pyparsing>=2.3.1 in c:\\users\\hp\\anaconda3\\lib\\site-packages (from matplotlib) (3.0.9)\n",
      "Requirement already satisfied: fonttools>=4.22.0 in c:\\users\\hp\\anaconda3\\lib\\site-packages (from matplotlib) (4.25.0)\n",
      "Requirement already satisfied: contourpy>=1.0.1 in c:\\users\\hp\\anaconda3\\lib\\site-packages (from matplotlib) (1.0.5)\n",
      "Requirement already satisfied: pillow>=6.2.0 in c:\\users\\hp\\anaconda3\\lib\\site-packages (from matplotlib) (9.4.0)\n",
      "Requirement already satisfied: numpy>=1.20 in c:\\users\\hp\\anaconda3\\lib\\site-packages (from matplotlib) (1.23.5)\n",
      "Requirement already satisfied: six>=1.5 in c:\\users\\hp\\anaconda3\\lib\\site-packages (from python-dateutil>=2.7->matplotlib) (1.16.0)\n"
     ]
    }
   ],
   "source": [
    "!pip install matplotlib"
   ]
  },
  {
   "cell_type": "code",
   "execution_count": 66,
   "id": "5289e29f-ba7a-48e3-b884-9a7d56b4f71b",
   "metadata": {
    "id": "5289e29f-ba7a-48e3-b884-9a7d56b4f71b"
   },
   "outputs": [],
   "source": [
    "import pandas as pd\n",
    "import sqlite3\n",
    "import smtplib\n",
    "from email.mime.text import MIMEText\n",
    "from email.mime.multipart import MIMEMultipart\n",
    "from email.mime.application import MIMEApplication"
   ]
  },
  {
   "cell_type": "code",
   "execution_count": 50,
   "id": "7f96a260",
   "metadata": {
    "id": "a3761f9f-9685-4c4f-bc03-f334cc78599f"
   },
   "outputs": [
    {
     "data": {
      "text/html": [
       "<div>\n",
       "<style scoped>\n",
       "    .dataframe tbody tr th:only-of-type {\n",
       "        vertical-align: middle;\n",
       "    }\n",
       "\n",
       "    .dataframe tbody tr th {\n",
       "        vertical-align: top;\n",
       "    }\n",
       "\n",
       "    .dataframe thead th {\n",
       "        text-align: right;\n",
       "    }\n",
       "</style>\n",
       "<table border=\"1\" class=\"dataframe\">\n",
       "  <thead>\n",
       "    <tr style=\"text-align: right;\">\n",
       "      <th></th>\n",
       "      <th>First Name;Last Name;Email;Application Date;Country;YOE;Seniority;Technology;Code Challenge Score;Technical Interview Score</th>\n",
       "    </tr>\n",
       "  </thead>\n",
       "  <tbody>\n",
       "    <tr>\n",
       "      <th>0</th>\n",
       "      <td>Bernadette;Langworth;leonard91@yahoo.com;2021-...</td>\n",
       "    </tr>\n",
       "    <tr>\n",
       "      <th>1</th>\n",
       "      <td>Camryn;Reynolds;zelda56@hotmail.com;2021-09-09...</td>\n",
       "    </tr>\n",
       "  </tbody>\n",
       "</table>\n",
       "</div>"
      ],
      "text/plain": [
       "  First Name;Last Name;Email;Application Date;Country;YOE;Seniority;Technology;Code Challenge Score;Technical Interview Score\n",
       "0  Bernadette;Langworth;leonard91@yahoo.com;2021-...                                                                         \n",
       "1  Camryn;Reynolds;zelda56@hotmail.com;2021-09-09...                                                                         "
      ]
     },
     "execution_count": 12,
     "metadata": {},
     "output_type": "execute_result"
    }
   ],
   "source": [
    "archivo = './src/candidates.csv'\n",
    "df = pd.read_csv(archivo, sep=';')\n",
    "df.head(2)"
   ]
  },
  {
   "cell_type": "code",
   "execution_count": 51,
   "id": "6b6d92d8-0305-4fcd-b0eb-8d36a743d957",
   "metadata": {},
   "outputs": [],
   "source": [
    "##df.to_excel('./output/candidatos.xlsx', index=False)"
   ]
  },
  {
   "cell_type": "code",
   "execution_count": 52,
   "id": "c93a8766-b289-4eec-b177-788dcbaf2456",
   "metadata": {},
   "outputs": [
    {
     "name": "stdout",
     "output_type": "stream",
     "text": [
      "   First Name   Last Name                      Email Application Date  \\\n",
      "0  Bernadette   Langworth        leonard91@yahoo.com       2021-02-26   \n",
      "1      Camryn    Reynolds        zelda56@hotmail.com       2021-09-09   \n",
      "2       Larue      Spinka   okey_schultz41@gmail.com       2020-04-14   \n",
      "3        Arch      Spinka     elvera_kulas@yahoo.com       2020-10-01   \n",
      "4       Larue  Altenwerth  minnie.gislason@gmail.com       2020-05-20   \n",
      "\n",
      "   Country  YOE  Seniority                         Technology  \\\n",
      "0   Norway    2     Intern                      Data Engineer   \n",
      "1   Panama   10     Intern                      Data Engineer   \n",
      "2  Belarus    4  Mid-Level                     Client Success   \n",
      "3  Eritrea   25    Trainee                          QA Manual   \n",
      "4  Myanmar   13  Mid-Level  Social Media Community Management   \n",
      "\n",
      "   Code Challenge Score  Technical Interview Score  \n",
      "0                     3                          3  \n",
      "1                     2                         10  \n",
      "2                    10                          9  \n",
      "3                     7                          1  \n",
      "4                     9                          7  \n"
     ]
    }
   ],
   "source": [
    "with sqlite3.connect(\"./output/candidatos.db\") as conexion:\n",
    "    df.to_sql(\"candidatos\", conexion, index=False, if_exists=\"replace\")\n",
    "    \n",
    "    query = 'SELECT * FROM candidatos'\n",
    "    df_candidatos = pd.read_sql_query(query,conexion)\n",
    "    pass\n",
    "\n",
    "print(df_candidatos.head())"
   ]
  },
  {
   "cell_type": "code",
   "execution_count": 53,
   "id": "994d066f-9a4b-4f38-875c-ad4224109b12",
   "metadata": {},
   "outputs": [
    {
     "name": "stdout",
     "output_type": "stream",
     "text": [
      "Index(['First Name', 'Last Name', 'Email', 'Application Date', 'Country',\n",
      "       'YOE', 'Seniority', 'Technology', 'Code Challenge Score',\n",
      "       'Technical Interview Score'],\n",
      "      dtype='object')\n"
     ]
    }
   ],
   "source": [
    "column_names = df_candidatos.columns\n",
    "print(column_names)"
   ]
  },
  {
   "cell_type": "code",
   "execution_count": 54,
   "id": "da90fd82-65ac-4c5b-9d9d-47c61834f91e",
   "metadata": {},
   "outputs": [],
   "source": [
    "# Calcular estadísticas\n",
    "promedio_experiencia = df_candidatos['YOE'].mean()\n",
    "maxima_puntuacion = df_candidatos['Code Challenge Score'].max()\n",
    "tecnologias_mas_usadas = df_candidatos['Technology'].value_counts().head(5)\n"
   ]
  },
  {
   "cell_type": "code",
   "execution_count": 58,
   "id": "4f7131b9-11ba-4820-a015-9482fba5d0f5",
   "metadata": {},
   "outputs": [
    {
     "name": "stdout",
     "output_type": "stream",
     "text": [
      "\n",
      "Informe de Candidatos:\n",
      "\n",
      "- Experiencia promedio: 15.28698 años\n",
      "- Puntuación máxima en el desafío de código: 10\n",
      "- Distribución de tecnología: \n",
      "Game Development                     3818\n",
      "DevOps                               3808\n",
      "Social Media Community Management    2028\n",
      "System Administration                2014\n",
      "Mulesoft                             1973\n",
      "Name: Technology, dtype: int64\n",
      "\n"
     ]
    }
   ],
   "source": [
    "informe = f\"\"\"\n",
    "Informe de Candidatos:\n",
    "\n",
    "- Experiencia promedio: {promedio_experiencia} años\n",
    "- Puntuación máxima en el desafío de código: {maxima_puntuacion}\n",
    "- Distribución de tecnología: \n",
    "{tecnologias_mas_usadas}\n",
    "\"\"\"\n",
    "\n",
    "with open(\"./output/informe.txt\", \"w\") as archivo:\n",
    "    archivo.write(informe)\n",
    "print(informe)"
   ]
  },
  {
   "cell_type": "code",
   "execution_count": 63,
   "id": "1eaa5656-2448-4ff7-b209-bbc027defc8f",
   "metadata": {},
   "outputs": [],
   "source": [
    "df.to_excel('./output/candidatos.xlsx', index=False)"
   ]
  },
  {
   "cell_type": "code",
   "execution_count": 67,
   "id": "702b6907-cdf1-487a-8a92-33f58e94ecee",
   "metadata": {},
   "outputs": [
    {
     "name": "stdout",
     "output_type": "stream",
     "text": [
      "El correo se envió exitosamente\n"
     ]
    }
   ],
   "source": [
    "\n",
    "# servidor de correo electrónico\n",
    "servidor_smtp = \"smtp.gmail.com\"\n",
    "puerto_smtp = 587\n",
    "correo_emisor = \"jdmendozam@unitru.edu.pe\"\n",
    "correo_receptor = \"jefreedwmm.jm@gmail.com\"\n",
    "contrasena = 'irrpbvfjewfkzojq' #open(\"./src/contrasena.txt\").read().strip() # Contraseña\n",
    "\n",
    "# mensaje de correo\n",
    "mensaje = MIMEMultipart()\n",
    "mensaje[\"From\"] = correo_emisor\n",
    "mensaje[\"To\"] = correo_receptor\n",
    "mensaje[\"Subject\"] = \"Informe de Candidatos\"\n",
    "\n",
    "# informe al mensaje\n",
    "with open(\"./output/informe.txt\", \"r\") as archivo:\n",
    "    texto_informe = archivo.read()\n",
    "mensaje.attach(MIMEText(texto_informe, \"plain\"))\n",
    "\n",
    "#toda la bd en un xlsx \n",
    "file_path = './output/candidatos.xlsx'\n",
    "with open(file_path, \"rb\") as archivo_excel:\n",
    "    adjunto_excel = MIMEApplication(archivo_excel.read(), _subtype=\"xlsx\")\n",
    "    adjunto_excel.add_header('content-disposition', 'attachment', filename = file_path)\n",
    "    mensaje.attach(adjunto_excel)\n",
    "\n",
    "# Envio del correo\n",
    "try:\n",
    "    servidor = smtplib.SMTP(servidor_smtp, puerto_smtp)\n",
    "    servidor.starttls()\n",
    "    servidor.login(correo_emisor, contrasena)\n",
    "    servidor.sendmail(correo_emisor, correo_receptor, mensaje.as_string())\n",
    "    print(\"El correo se envió exitosamente\")\n",
    "except Exception as e:\n",
    "    print(f\"Error al enviar el correo: {str(e)}\")\n",
    "finally:\n",
    "    servidor.quit()\n"
   ]
  },
  {
   "cell_type": "code",
   "execution_count": null,
   "id": "b54a3fe2-9e70-464a-b909-997725c7180c",
   "metadata": {},
   "outputs": [],
   "source": []
  }
 ],
 "metadata": {
  "colab": {
   "provenance": []
  },
  "kernelspec": {
   "display_name": "Python 3 (ipykernel)",
   "language": "python",
   "name": "python3"
  },
  "language_info": {
   "codemirror_mode": {
    "name": "ipython",
    "version": 3
   },
   "file_extension": ".py",
   "mimetype": "text/x-python",
   "name": "python",
   "nbconvert_exporter": "python",
   "pygments_lexer": "ipython3",
   "version": "3.10.9"
  }
 },
 "nbformat": 4,
 "nbformat_minor": 5
}
